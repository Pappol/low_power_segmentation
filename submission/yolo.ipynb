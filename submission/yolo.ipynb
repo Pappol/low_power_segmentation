{
  "cells": [
    {
      "cell_type": "code",
      "execution_count": 1,
      "metadata": {
        "id": "_K3Ms_NbPf4F",
        "outputId": "d54e0194-de76-4938-b0eb-f638794ce6d5",
        "colab": {
          "base_uri": "https://localhost:8080/"
        }
      },
      "outputs": [
        {
          "metadata": {
            "tags": null
          },
          "name": "stdout",
          "output_type": "stream",
          "text": [
            "Mounted at /content/drive\n"
          ]
        }
      ],
      "source": [
        "from google.colab import drive\n",
        "drive.mount('/content/drive', force_remount=True)"
      ]
    },
    {
      "cell_type": "code",
      "source": [
        "!pip install ultralytics -q"
      ],
      "metadata": {
        "id": "srOFzHWYP53R"
      },
      "execution_count": 11,
      "outputs": []
    },
    {
      "cell_type": "code",
      "source": [
        "!unzip -q /content/drive/MyDrive/Uni/cv/LPCVC_Train_Updated.zip"
      ],
      "metadata": {
        "id": "QhADDhwPSTJu"
      },
      "execution_count": 17,
      "outputs": []
    },
    {
      "cell_type": "code",
      "source": [
        "!unzip -q /content/drive/MyDrive/Uni/cv/LPCVC_Val.zip"
      ],
      "metadata": {
        "id": "Wr9Hb80rS5JH"
      },
      "execution_count": 18,
      "outputs": []
    },
    {
      "cell_type": "code",
      "source": [
        "from ultralytics import YOLO\n",
        "\n",
        "# Load a model\n",
        "model = YOLO('yolov8n-seg.pt')  # load a pretrained model (recommended for training)\n"
      ],
      "metadata": {
        "id": "9ZKM8xW6UZtb",
        "outputId": "d252fee3-6f4b-47d3-fd3c-4cd841a37ff8",
        "colab": {
          "base_uri": "https://localhost:8080/"
        }
      },
      "execution_count": 19,
      "outputs": [
        {
          "output_type": "stream",
          "name": "stderr",
          "text": [
            "Downloading https://github.com/ultralytics/assets/releases/download/v0.0.0/yolov8n-seg.pt to 'yolov8n-seg.pt'...\n",
            "100%|██████████| 6.73M/6.73M [00:00<00:00, 62.2MB/s]\n"
          ]
        }
      ]
    },
    {
      "cell_type": "code",
      "source": [
        "results = model('https://ultralytics.com/images/bus.jpg')  # predict on an image\n"
      ],
      "metadata": {
        "id": "B6GcYBrhUfrd",
        "outputId": "6522b660-b7f7-472e-f280-c6362453b842",
        "colab": {
          "base_uri": "https://localhost:8080/"
        }
      },
      "execution_count": 20,
      "outputs": [
        {
          "output_type": "stream",
          "name": "stderr",
          "text": [
            "\n",
            "Downloading https://ultralytics.com/images/bus.jpg to 'bus.jpg'...\n",
            "100%|██████████| 476k/476k [00:00<00:00, 9.30MB/s]\n",
            "image 1/1 /content/bus.jpg: 640x480 4 persons, 1 bus, 1 skateboard, 780.2ms\n",
            "Speed: 36.7ms preprocess, 780.2ms inference, 92.9ms postprocess per image at shape (1, 3, 640, 480)\n"
          ]
        }
      ]
    }
  ],
  "metadata": {
    "language_info": {
      "name": "python"
    },
    "orig_nbformat": 4,
    "colab": {
      "provenance": []
    },
    "kernelspec": {
      "name": "python3",
      "display_name": "Python 3"
    }
  },
  "nbformat": 4,
  "nbformat_minor": 0
}